{
 "cells": [
  {
   "cell_type": "code",
   "execution_count": 11,
   "metadata": {
    "collapsed": false,
    "scrolled": true
   },
   "outputs": [
    {
     "name": "stdout",
     "output_type": "stream",
     "text": [
      "['1001.09c', '1002.09c', '1003.09c', '2003.09c', '2004.09c', '3006.09c', '3007.09c', '4009.09c', '5010.09c', '5011.09c']\n",
      "['0.00000000000000E+00', '0.00000000000000E+00', '0.00000000000000E+00', '0.00000000000000E+00', '0.00000000000000E+00', '1.08162225143957E-06', '2.25328405407521E-02', '5.02375988418823E-03', '0.00000000000000E+00', '0.00000000000000E+00']\n"
     ]
    }
   ],
   "source": [
    "%matplotlib notebook \n",
    "# Import modules\n",
    "import math\n",
    "import numpy as np\n",
    "import matplotlib.pyplot\n",
    "from pyne import serpent\n",
    "\n",
    "\n",
    "fname = ('/home/andrei2/Desktop/git/msr-neutronics/depletion/pyrep/poisons_off/core.bumat0')\n",
    "def Read_Two_Column_File(file_name):\n",
    "    with open(file_name, 'r') as data:\n",
    "        nucname = []\n",
    "        adens = []\n",
    "        for line in data:\n",
    "            p = line.split()\n",
    "            nucname.append(str(p[0]))\n",
    "            adens.append(str(p[1]))\n",
    "\n",
    "    return nucname, adens\n",
    "\n",
    "x, y = Read_Two_Column_File(fname)\n",
    "\n",
    "print x[0:10]\n",
    "print y[0:10]"
   ]
  },
  {
   "cell_type": "code",
   "execution_count": null,
   "metadata": {
    "collapsed": true
   },
   "outputs": [],
   "source": []
  }
 ],
 "metadata": {
  "anaconda-cloud": {},
  "kernelspec": {
   "display_name": "Python [conda env:pyne27]",
   "language": "python",
   "name": "conda-env-pyne27-py"
  },
  "language_info": {
   "codemirror_mode": {
    "name": "ipython",
    "version": 2
   },
   "file_extension": ".py",
   "mimetype": "text/x-python",
   "name": "python",
   "nbconvert_exporter": "python",
   "pygments_lexer": "ipython2",
   "version": "2.7.12"
  }
 },
 "nbformat": 4,
 "nbformat_minor": 1
}
